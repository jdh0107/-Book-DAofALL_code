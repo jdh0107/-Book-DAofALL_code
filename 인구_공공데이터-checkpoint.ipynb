{
 "cells": [
  {
   "cell_type": "markdown",
   "metadata": {},
   "source": [
    "p.96~p.156"
   ]
  },
  {
   "cell_type": "markdown",
   "metadata": {},
   "source": [
    "꺾은선 그래프와 막대그래프로 안암동의 인구구조 파악하기"
   ]
  },
  {
   "cell_type": "code",
   "execution_count": null,
   "metadata": {},
   "outputs": [],
   "source": [
    "import csv\n",
    "import matplotlib.pyplot as plt\n",
    "\n",
    "f=open('C:\\\\Users\\\\DoHyun\\\\Desktop\\\\age.csv','r',encoding='cp949')\n",
    "data=csv.reader(f)\n",
    "header=next(data)\n",
    "\n",
    "age=[i for i in range(101)]\n",
    "num=[]\n",
    "question=input('인구 구조가 알고 싶은 지역의 이름(읍면동 단위)을 입력(단, 동명이 있을 시 결과가 출력되지 않습니다.) : ')\n",
    "\n",
    "for row in data:\n",
    "    if question in row[0]:                       #''표시 없이 바로 변수 적기\n",
    "        for i in range(101):\n",
    "            num.append(int(row[i+3]))\n",
    "\n",
    "f.close\n",
    "plt.style.use('ggplot')\n",
    "plt.rc('font',family='Malgun Gothic')\n",
    "plt.title(question+' 지역의 인구구조')\n",
    "plt.plot(age,num) #<--꺾은선 그래프\n",
    "plt.show()\n",
    "plt.bar(age,num) #<--막대 그래프\n",
    "plt.show()"
   ]
  },
  {
   "cell_type": "markdown",
   "metadata": {},
   "source": [
    "막대그래프로 성별 인구 분포"
   ]
  },
  {
   "cell_type": "code",
   "execution_count": null,
   "metadata": {},
   "outputs": [],
   "source": [
    "import csv\n",
    "import matplotlib.pyplot as plt\n",
    "\n",
    "file=open('C:\\\\Users\\\\DoHyun\\\\Desktop\\\\gender.csv','r',encoding='cp949')\n",
    "data=csv.reader(file)\n",
    "header=next(data)\n",
    "\n",
    "m=[]\n",
    "f=[]\n",
    "age=[i for i in range(101)]\n",
    "name=input('인구 구조가 알고 싶은 지역의 이름(읍면동 단위)을 입력(단, 동명이 있을 시 결과가 출력되지 않습니다.) : ')\n",
    "\n",
    "for row in data:\n",
    "    if name in row[0]:\n",
    "        for i in row[3:104]:\n",
    "            i=i.replace(',','')   #2,203 ->2203으로 바꿔서 정수로 인식하게하기\n",
    "            m.append(-int(i))\n",
    "        for j in row[106:]:\n",
    "            j=j.replace(',','')\n",
    "            f.append(int(j))\n",
    "        break\n",
    "\n",
    "file.close()\n",
    "\n",
    "plt.title(name+' 지역의 성별 분포')\n",
    "plt.rc('font',family='Malgun Gothic')\n",
    "plt.rcParams['axes.unicode_minus']=False        #x축의 숫자에 마이너스 기호 보이게 하기\n",
    "plt.barh(age,m,color='yellow',label='남성')\n",
    "plt.barh(age,f,color='red',label='여성')\n",
    "plt.legend()\n",
    "plt.show()"
   ]
  },
  {
   "cell_type": "markdown",
   "metadata": {},
   "source": [
    "혈액형별 비율(임의로 수 지정)"
   ]
  },
  {
   "cell_type": "code",
   "execution_count": null,
   "metadata": {},
   "outputs": [],
   "source": [
    "import matplotlib.pyplot as plt\n",
    "\n",
    "size=[2000,2400,1800,1500]\n",
    "label=['A형','B형','C형','D형']\n",
    "\n",
    "plt.title('Proportion of Blood groups')\n",
    "plt.axis('equal')\n",
    "plt.pie(size,labels=label,autopct='%.2f%%',explode=(0,0.1,0,0))\n",
    "plt.legend()\n",
    "plt.show()"
   ]
  },
  {
   "cell_type": "markdown",
   "metadata": {},
   "source": [
    "지역별 성별 인구 비율"
   ]
  },
  {
   "cell_type": "code",
   "execution_count": null,
   "metadata": {
    "scrolled": true
   },
   "outputs": [],
   "source": [
    "import csv\n",
    "import matplotlib.pyplot as plt\n",
    "\n",
    "file=open('C:\\\\Users\\\\DoHyun\\\\Desktop\\\\gender.csv','r',encoding='cp949')\n",
    "data=csv.reader(file)\n",
    "header=next(data)\n",
    "name=input('성별 비율이 알고 싶은 지역의 이름(읍면동 단위)을 입력(단, 동명이 있을 시 결과가 출력되지 않습니다.) : ')\n",
    "size=[]\n",
    "f=0\n",
    "m=0\n",
    "\n",
    "for row in data:\n",
    "    if name in row[0]:\n",
    "        for i in row[3:104]:\n",
    "            m+=int(i)\n",
    "        for j in row[106:]:\n",
    "            f+=int(j)\n",
    "size.append(f)\n",
    "size.append(m)\n",
    "            \n",
    "file.close()\n",
    "\n",
    "plt.title(name+' 지역의 성별비율')\n",
    "plt.rc('font',family='Malgun Gothic')\n",
    "color=['crimson','navajowhite']\n",
    "plt.axis('equal')\n",
    "plt.pie(size,labels=['여','남'],autopct='%.1f%%',colors=color,startangle=90)\n",
    "plt.show()\n"
   ]
  },
  {
   "cell_type": "markdown",
   "metadata": {},
   "source": [
    "지역의 연령대별 성별 비율을 산점도로 표현하기"
   ]
  },
  {
   "cell_type": "code",
   "execution_count": null,
   "metadata": {},
   "outputs": [],
   "source": [
    "import csv\n",
    "import math\n",
    "import matplotlib.pyplot as plt\n",
    "\n",
    "file=open('C:\\\\Users\\\\DoHyun\\\\Desktop\\\\gender.csv','r',encoding='cp949')\n",
    "data=csv.reader(file)\n",
    "header=next(data)\n",
    "m=[]\n",
    "f=[]\n",
    "size=[]\n",
    "name=input('연령대별 성별 비율을 알고 싶은 지역의 이름(읍면동 단위)을 입력(단, 동명이 있을 시 결과가 출력되지 않습니다.) : ')\n",
    "\n",
    "for row in data:\n",
    "    if name in row[0]:\n",
    "        for i in range(3,104):\n",
    "            m.append(int(row[i]))\n",
    "            f.append(int(row[i+103]))\n",
    "            size.append(math.sqrt(int(row[i])+int(row[i+103])))\n",
    "\n",
    "plt.title(name+' 지역의 연령대별 성별 비율')\n",
    "plt.rc('font',family='Malgun Gothic')\n",
    "plt.scatter(m,f,s=size,c=range(0,101),cmap='jet')\n",
    "plt.colorbar()\n",
    "plt.xlabel('남성')\n",
    "plt.ylabel('여성')\n",
    "plt.plot(range(max(m)),range(max(m)))\n",
    "plt.show()"
   ]
  }
 ],
 "metadata": {
  "kernelspec": {
   "display_name": "Python 3",
   "language": "python",
   "name": "python3"
  },
  "language_info": {
   "codemirror_mode": {
    "name": "ipython",
    "version": 3
   },
   "file_extension": ".py",
   "mimetype": "text/x-python",
   "name": "python",
   "nbconvert_exporter": "python",
   "pygments_lexer": "ipython3",
   "version": "3.6.5"
  }
 },
 "nbformat": 4,
 "nbformat_minor": 2
}
